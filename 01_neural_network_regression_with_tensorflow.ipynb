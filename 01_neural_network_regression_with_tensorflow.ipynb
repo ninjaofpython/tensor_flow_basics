{
 "cells": [
  {
   "cell_type": "markdown",
   "id": "8135aff3",
   "metadata": {},
   "source": [
    "### Introduction to regression with neural networks in Tensorflow\n",
    "There are many definitions for a regression problem\n",
    "but in our case, we're going to simplify it: predicting a Numerical variable\n",
    "based on some combination of variables, even shorter...predicting a number.\n"
   ]
  },
  {
   "cell_type": "code",
   "execution_count": 2,
   "id": "f980591c",
   "metadata": {},
   "outputs": [
    {
     "name": "stdout",
     "output_type": "stream",
     "text": [
      "Init Plugin\n",
      "2.5.0\n",
      "Init Graph Optimizer\n",
      "Init Kernel\n"
     ]
    }
   ],
   "source": [
    "# Import TensorFlow\n",
    "import tensorflow as tf\n",
    "from\n",
    "print(tf.__version__)"
   ]
  },
  {
   "cell_type": "markdown",
   "id": "edf9b359",
   "metadata": {},
   "source": [
    "### Create data to view and fit"
   ]
  },
  {
   "cell_type": "code",
   "execution_count": 3,
   "id": "ee41fddf",
   "metadata": {
    "scrolled": true
   },
   "outputs": [
    {
     "data": {
      "text/plain": [
       "<matplotlib.collections.PathCollection at 0x15f7ca610>"
      ]
     },
     "execution_count": 3,
     "metadata": {},
     "output_type": "execute_result"
    },
    {
     "data": {
      "image/png": "[encoded data removed]",
      "text/plain": [
       "<Figure size 432x288 with 1 Axes>"
      ]
     },
     "metadata": {
      "needs_background": "light"
     },
     "output_type": "display_data"
    }
   ],
   "source": [
    "import numpy as np\n",
    "import matplotlib.pyplot as plt\n",
    "\n",
    "# Create features\n",
    "X = np.array([-7.0, -4.0, -1.0, 2.0, 5.0, 8.0, 11.0, 14.0])\n",
    "\n",
    "# Create labels\n",
    "y = np.array([3.0, 6.0, 9.0, 12.0, 15.0, 18.0, 21.0, 24.0])\n",
    "\n",
    "# Visualize it with a plotb\n",
    "plt.scatter(X, y)"
   ]
  },
  {
   "cell_type": "code",
   "execution_count": 4,
   "id": "009c45e5",
   "metadata": {},
   "outputs": [
    {
     "data": {
      "text/plain": [
       "array([ True,  True,  True,  True,  True,  True,  True,  True])"
      ]
     },
     "execution_count": 4,
     "metadata": {},
     "output_type": "execute_result"
    }
   ],
   "source": [
    "# This is the relationship between our independant variable and dependant variable.\n",
    "y == X + 10"
   ]
  },
  {
   "cell_type": "markdown",
   "id": "d9b8ba84",
   "metadata": {},
   "source": [
    "### Input and output shapes important "
   ]
  },
  {
   "cell_type": "code",
   "execution_count": 5,
   "id": "143928af",
   "metadata": {
    "scrolled": true
   },
   "outputs": [
    {
     "name": "stdout",
     "output_type": "stream",
     "text": [
      "Metal device set to: Apple M1\n"
     ]
    },
    {
     "name": "stderr",
     "output_type": "stream",
     "text": [
      "2022-07-22 19:03:44.172604: I tensorflow/core/common_runtime/pluggable_device/pluggable_device_factory.cc:305] Could not identify NUMA node of platform GPU ID 0, defaulting to 0. Your kernel may not have been built with NUMA support.\n",
      "2022-07-22 19:03:44.172757: I tensorflow/core/common_runtime/pluggable_device/pluggable_device_factory.cc:271] Created TensorFlow device (/job:localhost/replica:0/task:0/device:GPU:0 with 0 MB memory) -> physical PluggableDevice (device: 0, name: METAL, pci bus id: <undefined>)\n"
     ]
    },
    {
     "data": {
      "text/plain": [
       "(<tf.Tensor: shape=(3,), dtype=string, numpy=array([b'bedroom', b'bathroom', b'garage'], dtype=object)>,\n",
       " <tf.Tensor: shape=(1,), dtype=int32, numpy=array([939700], dtype=int32)>)"
      ]
     },
     "execution_count": 5,
     "metadata": {},
     "output_type": "execute_result"
    }
   ],
   "source": [
    "# Create a demo tensor for our Housing price prediction problem\n",
    "house_info = tf.constant([\"bedroom\", \"bathroom\", \"garage\"])\n",
    "house_price = tf.constant([939700])\n",
    "house_info, house_price"
   ]
  },
  {
   "cell_type": "code",
   "execution_count": 6,
   "id": "f34081db",
   "metadata": {},
   "outputs": [
    {
     "data": {
      "text/plain": [
       "(-7.0, 3.0)"
      ]
     },
     "execution_count": 6,
     "metadata": {},
     "output_type": "execute_result"
    }
   ],
   "source": [
    "X[0], y[0]"
   ]
  },
  {
   "cell_type": "code",
   "execution_count": 7,
   "id": "9f19c713",
   "metadata": {},
   "outputs": [
    {
     "data": {
      "text/plain": [
       "(-4.0, 6.0)"
      ]
     },
     "execution_count": 7,
     "metadata": {},
     "output_type": "execute_result"
    }
   ],
   "source": [
    "X[1], y[1]"
   ]
  },
  {
   "cell_type": "code",
   "execution_count": 8,
   "id": "a9c376b6",
   "metadata": {},
   "outputs": [
    {
     "data": {
      "text/plain": [
       "((), ())"
      ]
     },
     "execution_count": 8,
     "metadata": {},
     "output_type": "execute_result"
    }
   ],
   "source": [
    "input_shape = X[0].shape\n",
    "output_shape = y[0].shape\n",
    "input_shape, output_shape"
   ]
  },
  {
   "cell_type": "code",
   "execution_count": 9,
   "id": "4616075d",
   "metadata": {},
   "outputs": [
    {
     "data": {
      "text/plain": [
       "(-7.0, 3.0)"
      ]
     },
     "execution_count": 9,
     "metadata": {},
     "output_type": "execute_result"
    }
   ],
   "source": [
    "X[0], y[0]"
   ]
  },
  {
   "cell_type": "code",
   "execution_count": 10,
   "id": "da90bc1a",
   "metadata": {},
   "outputs": [
    {
     "data": {
      "text/plain": [
       "(<tf.Tensor: shape=(8,), dtype=float32, numpy=array([-7., -4., -1.,  2.,  5.,  8., 11., 14.], dtype=float32)>,\n",
       " <tf.Tensor: shape=(8,), dtype=float32, numpy=array([ 3.,  6.,  9., 12., 15., 18., 21., 24.], dtype=float32)>)"
      ]
     },
     "execution_count": 10,
     "metadata": {},
     "output_type": "execute_result"
    }
   ],
   "source": [
    "# Change the dtype to tf.float32\n",
    "X = tf.cast(tf.constant(X), dtype=tf.float32)\n",
    "y = tf.cast(tf.constant(y), dtype=tf.float32)\n",
    "X, y"
   ]
  },
  {
   "cell_type": "code",
   "execution_count": 11,
   "id": "0ef4e312",
   "metadata": {},
   "outputs": [
    {
     "data": {
      "text/plain": [
       "(TensorShape([]), TensorShape([]))"
      ]
     },
     "execution_count": 11,
     "metadata": {},
     "output_type": "execute_result"
    }
   ],
   "source": [
    "input_shape = X[0].shape\n",
    "output_shape = y[0].shape\n",
    "input_shape, output_shape"
   ]
  },
  {
   "cell_type": "code",
   "execution_count": 12,
   "id": "91641bcf",
   "metadata": {},
   "outputs": [
    {
     "data": {
      "text/plain": [
       "<matplotlib.collections.PathCollection at 0x160026160>"
      ]
     },
     "execution_count": 12,
     "metadata": {},
     "output_type": "execute_result"
    },
    {
     "data": {
      "image/png": "[encoded data removed]",
      "text/plain": [
       "<Figure size 432x288 with 1 Axes>"
      ]
     },
     "metadata": {
      "needs_background": "light"
     },
     "output_type": "display_data"
    }
   ],
   "source": [
    "plt.scatter(X, y)"
   ]
  },
  {
   "cell_type": "markdown",
   "id": "5f0fcec0",
   "metadata": {},
   "source": [
    "### Steps in modeling with TensorFlow\n",
    "1. ***Creating a model*** and the find the input and output layers, as well as the hidden layers of\n",
    "    a deep learning model.\n",
    "2. Compiling a model - define the loss function (in other words, the function \n",
    "    which tells our model how wrong it is) and the optimizer (tells are model how to improve \n",
    "    the patterns it's learning) and  evaluation metrics (What we can use to interpret \n",
    "    the Performance of our model.)\n",
    "3. Fitting a model – leading the model try to find patterns between X & y (features and labels)"
   ]
  },
  {
   "cell_type": "code",
   "execution_count": 22,
   "id": "5fa8d281",
   "metadata": {
    "scrolled": true
   },
   "outputs": [
    {
     "name": "stdout",
     "output_type": "stream",
     "text": [
      "Epoch 1/5\n",
      "1/1 [==============================] - 0s 127ms/step - loss: 16.4449 - mae: 16.4449\n",
      "Epoch 2/5\n",
      "1/1 [==============================] - 0s 4ms/step - loss: 16.1637 - mae: 16.1637\n",
      "Epoch 3/5\n",
      "1/1 [==============================] - 0s 4ms/step - loss: 15.8824 - mae: 15.8824\n",
      "Epoch 4/5\n",
      "1/1 [==============================] - 0s 5ms/step - loss: 15.6012 - mae: 15.6012\n",
      "Epoch 5/5\n",
      "1/1 [==============================] - 0s 4ms/step - loss: 15.3199 - mae: 15.3199\n"
     ]
    },
    {
     "name": "stderr",
     "output_type": "stream",
     "text": [
      "2022-07-22 19:06:51.240021: I tensorflow/core/grappler/optimizers/custom_graph_optimizer_registry.cc:112] Plugin optimizer for device_type GPU is enabled.\n"
     ]
    },
    {
     "data": {
      "text/plain": [
       "<tensorflow.python.keras.callbacks.History at 0x15fb50160>"
      ]
     },
     "execution_count": 22,
     "metadata": {},
     "output_type": "execute_result"
    }
   ],
   "source": [
    "# Set random seed\n",
    "tf.random.set_seed(42)\n",
    "\n",
    "# First Neural model\n",
    "\n",
    "# 1. Create a model using the Sequential API\n",
    "model = tf.keras.Sequential([\n",
    "    tf.keras.layers.Dense(1)\n",
    "])\n",
    "\n",
    "# 2. Compile the model\n",
    "model.compile(loss=tf.keras.losses.mae, # mae is short for mean absolute error\n",
    "              optimizer=tf.keras.optimizers.SGD(), # sdg is short for stochasitc gradient descent \n",
    "              metrics=[\"mae\"])\n",
    "# 3. Fit the model, epochs is the number of times it goes through the data\n",
    "model.fit(X, y, epochs=5)"
   ]
  },
  {
   "cell_type": "code",
   "execution_count": 14,
   "id": "3439a3a5",
   "metadata": {},
   "outputs": [
    {
     "data": {
      "text/plain": [
       "(<tf.Tensor: shape=(8,), dtype=float32, numpy=array([-7., -4., -1.,  2.,  5.,  8., 11., 14.], dtype=float32)>,\n",
       " <tf.Tensor: shape=(8,), dtype=float32, numpy=array([ 3.,  6.,  9., 12., 15., 18., 21., 24.], dtype=float32)>)"
      ]
     },
     "execution_count": 14,
     "metadata": {},
     "output_type": "execute_result"
    }
   ],
   "source": [
    "# Check out X and y\n",
    "X, y\n"
   ]
  },
  {
   "cell_type": "code",
   "execution_count": 15,
   "id": "5536be18",
   "metadata": {},
   "outputs": [
    {
     "name": "stderr",
     "output_type": "stream",
     "text": [
      "2022-07-22 19:03:45.400109: I tensorflow/core/grappler/optimizers/custom_graph_optimizer_registry.cc:112] Plugin optimizer for device_type GPU is enabled.\n"
     ]
    },
    {
     "data": {
      "text/plain": [
       "array([[-7.4645805]], dtype=float32)"
      ]
     },
     "execution_count": 15,
     "metadata": {},
     "output_type": "execute_result"
    }
   ],
   "source": [
    "# Try and make a prediction using our model\n",
    "model.predict([17.0])"
   ]
  },
  {
   "cell_type": "code",
   "execution_count": 16,
   "id": "fdcb84a4",
   "metadata": {},
   "outputs": [
    {
     "data": {
      "text/plain": [
       "array([[-7.4645805]], dtype=float32)"
      ]
     },
     "execution_count": 16,
     "metadata": {},
     "output_type": "execute_result"
    }
   ],
   "source": [
    "y_pred = model.predict([17.0])\n",
    "y_pred"
   ]
  },
  {
   "cell_type": "code",
   "execution_count": 17,
   "id": "01d8b549",
   "metadata": {},
   "outputs": [
    {
     "data": {
      "text/plain": [
       "array([[3.5354195]], dtype=float32)"
      ]
     },
     "execution_count": 17,
     "metadata": {},
     "output_type": "execute_result"
    }
   ],
   "source": [
    "y_pred + 11"
   ]
  },
  {
   "cell_type": "markdown",
   "id": "c74c0856",
   "metadata": {},
   "source": [
    "## Improving our model\n",
    "\n",
    "We can improve our model, by altering the steps we took to create a model.\n",
    "\n",
    "1. **Creating a model** - here we might add more layers, \n",
    "increase the number of hidden units (all called neurons) within each of the hidden layers, \n",
    "change the activation function of each layer.\n",
    "\n",
    "2. **Compiling a model** - here we might change the optimization function or perhaps the learning rate of the optimization function.\n",
    "3. **Fitting a model** - here we might fit a model with more epochs (leave it training for longer) or on more data (give the model more examples to learn from)."
   ]
  },
  {
   "cell_type": "code",
   "execution_count": 39,
   "id": "4ccb6437",
   "metadata": {
    "scrolled": true
   },
   "outputs": [
    {
     "name": "stdout",
     "output_type": "stream",
     "text": [
      "Epoch 1/100\n",
      "1/1 [==============================] - 0s 150ms/step - loss: 13.3657 - mae: 13.3657\n",
      "Epoch 2/100\n",
      "1/1 [==============================] - 0s 10ms/step - loss: 13.3653 - mae: 13.3653\n",
      "Epoch 3/100\n",
      "1/1 [==============================] - 0s 4ms/step - loss: 13.3648 - mae: 13.3648\n",
      "Epoch 4/100\n",
      "1/1 [==============================] - 0s 4ms/step - loss: 13.3644 - mae: 13.3644\n",
      "Epoch 5/100\n",
      "1/1 [==============================] - 0s 4ms/step - loss: 13.3639 - mae: 13.3639\n",
      "Epoch 6/100\n",
      "1/1 [==============================] - 0s 4ms/step - loss: 13.3635 - mae: 13.3635\n",
      "Epoch 7/100\n",
      "1/1 [==============================] - 0s 4ms/step - loss: 13.3630 - mae: 13.3630\n",
      "Epoch 8/100\n",
      "1/1 [==============================] - 0s 4ms/step - loss: 13.3626 - mae: 13.3626\n",
      "Epoch 9/100\n",
      "1/1 [==============================] - 0s 4ms/step - loss: 13.3621 - mae: 13.3621\n",
      "Epoch 10/100\n",
      "1/1 [==============================] - 0s 4ms/step - loss: 13.3617 - mae: 13.3617\n",
      "Epoch 11/100\n",
      "1/1 [==============================] - 0s 4ms/step - loss: 13.3612 - mae: 13.3612\n",
      "Epoch 12/100\n",
      "1/1 [==============================] - 0s 4ms/step - loss: 13.3608 - mae: 13.3608\n",
      "Epoch 13/100\n",
      "1/1 [==============================] - 0s 4ms/step - loss: 13.3603 - mae: 13.3603\n",
      "Epoch 14/100\n",
      "1/1 [==============================] - 0s 4ms/step - loss: 13.3599 - mae: 13.3599\n",
      "Epoch 15/100\n",
      "1/1 [==============================] - 0s 4ms/step - loss: 13.3594 - mae: 13.3594\n",
      "Epoch 16/100\n",
      "1/1 [==============================] - 0s 4ms/step - loss: 13.3590 - mae: 13.3590\n",
      "Epoch 17/100\n",
      "1/1 [==============================] - 0s 4ms/step - loss: 13.3585 - mae: 13.3585\n",
      "Epoch 18/100\n",
      "1/1 [==============================] - 0s 4ms/step - loss: 13.3581 - mae: 13.3581\n",
      "Epoch 19/100\n",
      "1/1 [==============================] - 0s 4ms/step - loss: 13.3576 - mae: 13.3576\n",
      "Epoch 20/100\n",
      "1/1 [==============================] - 0s 3ms/step - loss: 13.3572 - mae: 13.3572\n",
      "Epoch 21/100\n",
      "1/1 [==============================] - 0s 4ms/step - loss: 13.3567 - mae: 13.3567\n",
      "Epoch 22/100\n",
      "1/1 [==============================] - 0s 4ms/step - loss: 13.3563 - mae: 13.3563\n",
      "Epoch 23/100\n",
      "1/1 [==============================] - 0s 4ms/step - loss: 13.3558 - mae: 13.3558\n",
      "Epoch 24/100\n",
      "1/1 [==============================] - 0s 5ms/step - loss: 13.3554 - mae: 13.3554\n",
      "Epoch 25/100\n",
      "1/1 [==============================] - 0s 4ms/step - loss: 13.3549 - mae: 13.3549\n",
      "Epoch 26/100\n",
      "1/1 [==============================] - 0s 4ms/step - loss: 13.3545 - mae: 13.3545\n"
     ]
    },
    {
     "name": "stderr",
     "output_type": "stream",
     "text": [
      "2022-07-22 19:29:23.826014: I tensorflow/core/grappler/optimizers/custom_graph_optimizer_registry.cc:112] Plugin optimizer for device_type GPU is enabled.\n"
     ]
    },
    {
     "name": "stdout",
     "output_type": "stream",
     "text": [
      "Epoch 27/100\n",
      "1/1 [==============================] - 0s 4ms/step - loss: 13.3540 - mae: 13.3540\n",
      "Epoch 28/100\n",
      "1/1 [==============================] - 0s 5ms/step - loss: 13.3536 - mae: 13.3536\n",
      "Epoch 29/100\n",
      "1/1 [==============================] - 0s 5ms/step - loss: 13.3531 - mae: 13.3531\n",
      "Epoch 30/100\n",
      "1/1 [==============================] - 0s 4ms/step - loss: 13.3527 - mae: 13.3527\n",
      "Epoch 31/100\n",
      "1/1 [==============================] - 0s 4ms/step - loss: 13.3522 - mae: 13.3522\n",
      "Epoch 32/100\n",
      "1/1 [==============================] - 0s 4ms/step - loss: 13.3518 - mae: 13.3518\n",
      "Epoch 33/100\n",
      "1/1 [==============================] - 0s 4ms/step - loss: 13.3513 - mae: 13.3513\n",
      "Epoch 34/100\n",
      "1/1 [==============================] - 0s 4ms/step - loss: 13.3509 - mae: 13.3509\n",
      "Epoch 35/100\n",
      "1/1 [==============================] - 0s 4ms/step - loss: 13.3504 - mae: 13.3504\n",
      "Epoch 36/100\n",
      "1/1 [==============================] - 0s 4ms/step - loss: 13.3500 - mae: 13.3500\n",
      "Epoch 37/100\n",
      "1/1 [==============================] - 0s 4ms/step - loss: 13.3495 - mae: 13.3495\n",
      "Epoch 38/100\n",
      "1/1 [==============================] - 0s 4ms/step - loss: 13.3491 - mae: 13.3491\n",
      "Epoch 39/100\n",
      "1/1 [==============================] - 0s 4ms/step - loss: 13.3486 - mae: 13.3486\n",
      "Epoch 40/100\n",
      "1/1 [==============================] - 0s 4ms/step - loss: 13.3482 - mae: 13.3482\n",
      "Epoch 41/100\n",
      "1/1 [==============================] - 0s 4ms/step - loss: 13.3477 - mae: 13.3477\n",
      "Epoch 42/100\n",
      "1/1 [==============================] - 0s 4ms/step - loss: 13.3473 - mae: 13.3473\n",
      "Epoch 43/100\n",
      "1/1 [==============================] - 0s 4ms/step - loss: 13.3468 - mae: 13.3468\n",
      "Epoch 44/100\n",
      "1/1 [==============================] - 0s 4ms/step - loss: 13.3464 - mae: 13.3464\n",
      "Epoch 45/100\n",
      "1/1 [==============================] - 0s 4ms/step - loss: 13.3459 - mae: 13.3459\n",
      "Epoch 46/100\n",
      "1/1 [==============================] - 0s 4ms/step - loss: 13.3455 - mae: 13.3455\n",
      "Epoch 47/100\n",
      "1/1 [==============================] - 0s 4ms/step - loss: 13.3450 - mae: 13.3450\n",
      "Epoch 48/100\n",
      "1/1 [==============================] - 0s 4ms/step - loss: 13.3446 - mae: 13.3446\n",
      "Epoch 49/100\n",
      "1/1 [==============================] - 0s 4ms/step - loss: 13.3441 - mae: 13.3441\n",
      "Epoch 50/100\n",
      "1/1 [==============================] - 0s 4ms/step - loss: 13.3437 - mae: 13.3437\n",
      "Epoch 51/100\n",
      "1/1 [==============================] - 0s 4ms/step - loss: 13.3432 - mae: 13.3432\n",
      "Epoch 52/100\n",
      "1/1 [==============================] - 0s 4ms/step - loss: 13.3428 - mae: 13.3428\n",
      "Epoch 53/100\n",
      "1/1 [==============================] - 0s 4ms/step - loss: 13.3423 - mae: 13.3423\n",
      "Epoch 54/100\n",
      "1/1 [==============================] - 0s 4ms/step - loss: 13.3419 - mae: 13.3419\n",
      "Epoch 55/100\n",
      "1/1 [==============================] - 0s 4ms/step - loss: 13.3414 - mae: 13.3414\n",
      "Epoch 56/100\n",
      "1/1 [==============================] - 0s 4ms/step - loss: 13.3410 - mae: 13.3410\n",
      "Epoch 57/100\n",
      "1/1 [==============================] - 0s 4ms/step - loss: 13.3405 - mae: 13.3405\n",
      "Epoch 58/100\n",
      "1/1 [==============================] - 0s 4ms/step - loss: 13.3401 - mae: 13.3401\n",
      "Epoch 59/100\n",
      "1/1 [==============================] - 0s 4ms/step - loss: 13.3396 - mae: 13.3396\n",
      "Epoch 60/100\n",
      "1/1 [==============================] - 0s 5ms/step - loss: 13.3392 - mae: 13.3392\n",
      "Epoch 61/100\n",
      "1/1 [==============================] - 0s 4ms/step - loss: 13.3387 - mae: 13.3387\n",
      "Epoch 62/100\n",
      "1/1 [==============================] - 0s 4ms/step - loss: 13.3383 - mae: 13.3383\n",
      "Epoch 63/100\n",
      "1/1 [==============================] - 0s 5ms/step - loss: 13.3378 - mae: 13.3378\n",
      "Epoch 64/100\n",
      "1/1 [==============================] - 0s 4ms/step - loss: 13.3374 - mae: 13.3374\n",
      "Epoch 65/100\n",
      "1/1 [==============================] - 0s 4ms/step - loss: 13.3369 - mae: 13.3369\n",
      "Epoch 66/100\n",
      "1/1 [==============================] - 0s 4ms/step - loss: 13.3365 - mae: 13.3365\n",
      "Epoch 67/100\n",
      "1/1 [==============================] - 0s 4ms/step - loss: 13.3360 - mae: 13.3360\n",
      "Epoch 68/100\n",
      "1/1 [==============================] - 0s 4ms/step - loss: 13.3356 - mae: 13.3356\n",
      "Epoch 69/100\n",
      "1/1 [==============================] - 0s 4ms/step - loss: 13.3351 - mae: 13.3351\n",
      "Epoch 70/100\n",
      "1/1 [==============================] - 0s 4ms/step - loss: 13.3347 - mae: 13.3347\n",
      "Epoch 71/100\n",
      "1/1 [==============================] - 0s 4ms/step - loss: 13.3342 - mae: 13.3342\n",
      "Epoch 72/100\n",
      "1/1 [==============================] - 0s 4ms/step - loss: 13.3338 - mae: 13.3338\n",
      "Epoch 73/100\n",
      "1/1 [==============================] - 0s 4ms/step - loss: 13.3333 - mae: 13.3333\n",
      "Epoch 74/100\n",
      "1/1 [==============================] - 0s 4ms/step - loss: 13.3329 - mae: 13.3329\n",
      "Epoch 75/100\n",
      "1/1 [==============================] - 0s 4ms/step - loss: 13.3324 - mae: 13.3324\n",
      "Epoch 76/100\n",
      "1/1 [==============================] - 0s 4ms/step - loss: 13.3320 - mae: 13.3320\n",
      "Epoch 77/100\n",
      "1/1 [==============================] - 0s 4ms/step - loss: 13.3315 - mae: 13.3315\n",
      "Epoch 78/100\n",
      "1/1 [==============================] - 0s 4ms/step - loss: 13.3311 - mae: 13.3311\n",
      "Epoch 79/100\n",
      "1/1 [==============================] - 0s 4ms/step - loss: 13.3306 - mae: 13.3306\n",
      "Epoch 80/100\n",
      "1/1 [==============================] - 0s 4ms/step - loss: 13.3302 - mae: 13.3302\n",
      "Epoch 81/100\n",
      "1/1 [==============================] - 0s 4ms/step - loss: 13.3297 - mae: 13.3297\n",
      "Epoch 82/100\n",
      "1/1 [==============================] - 0s 4ms/step - loss: 13.3293 - mae: 13.3293\n",
      "Epoch 83/100\n",
      "1/1 [==============================] - 0s 4ms/step - loss: 13.3288 - mae: 13.3288\n",
      "Epoch 84/100\n",
      "1/1 [==============================] - 0s 4ms/step - loss: 13.3284 - mae: 13.3284\n",
      "Epoch 85/100\n",
      "1/1 [==============================] - 0s 5ms/step - loss: 13.3279 - mae: 13.3279\n",
      "Epoch 86/100\n",
      "1/1 [==============================] - 0s 4ms/step - loss: 13.3275 - mae: 13.3275\n",
      "Epoch 87/100\n",
      "1/1 [==============================] - 0s 4ms/step - loss: 13.3270 - mae: 13.3270\n",
      "Epoch 88/100\n",
      "1/1 [==============================] - 0s 5ms/step - loss: 13.3266 - mae: 13.3266\n",
      "Epoch 89/100\n",
      "1/1 [==============================] - 0s 4ms/step - loss: 13.3261 - mae: 13.3261\n",
      "Epoch 90/100\n",
      "1/1 [==============================] - 0s 4ms/step - loss: 13.3257 - mae: 13.3257\n",
      "Epoch 91/100\n",
      "1/1 [==============================] - 0s 5ms/step - loss: 13.3252 - mae: 13.3252\n",
      "Epoch 92/100\n",
      "1/1 [==============================] - 0s 4ms/step - loss: 13.3248 - mae: 13.3248\n",
      "Epoch 93/100\n",
      "1/1 [==============================] - 0s 4ms/step - loss: 13.3243 - mae: 13.3243\n",
      "Epoch 94/100\n",
      "1/1 [==============================] - 0s 4ms/step - loss: 13.3239 - mae: 13.3239\n",
      "Epoch 95/100\n",
      "1/1 [==============================] - 0s 4ms/step - loss: 13.3234 - mae: 13.3234\n",
      "Epoch 96/100\n",
      "1/1 [==============================] - 0s 4ms/step - loss: 13.3230 - mae: 13.3230\n",
      "Epoch 97/100\n",
      "1/1 [==============================] - 0s 5ms/step - loss: 13.3225 - mae: 13.3225\n",
      "Epoch 98/100\n",
      "1/1 [==============================] - 0s 4ms/step - loss: 13.3221 - mae: 13.3221\n",
      "Epoch 99/100\n",
      "1/1 [==============================] - 0s 3ms/step - loss: 13.3216 - mae: 13.3216\n",
      "Epoch 100/100\n",
      "1/1 [==============================] - 0s 4ms/step - loss: 13.3212 - mae: 13.3212\n"
     ]
    },
    {
     "data": {
      "text/plain": [
       "<tensorflow.python.keras.callbacks.History at 0x16a093bb0>"
      ]
     },
     "execution_count": 39,
     "metadata": {},
     "output_type": "execute_result"
    }
   ],
   "source": [
    "# Let's rebuild our model\n",
    "\n",
    "# 1. Create the model\n",
    "model = tf.keras.Sequential([\n",
    "    tf.keras.layers.Dense(1)\n",
    "])\n",
    "\n",
    "# 2. Compile the model\n",
    "model.compile(loss=tf.keras.losses.mae, # mae is short for mean absolute error\n",
    "              optimizer=tf.keras.optimizers.SDG(), # sdg is short for stochasitc gradient descent \n",
    "              metrics=[\"mae\"])\n",
    "\n",
    "# 3 Fit the model\n",
    "model.fit(X, y, epochs=100)"
   ]
  },
  {
   "cell_type": "code",
   "execution_count": 24,
   "id": "3d83351a",
   "metadata": {},
   "outputs": [
    {
     "data": {
      "text/plain": [
       "(<tf.Tensor: shape=(8,), dtype=float32, numpy=array([-7., -4., -1.,  2.,  5.,  8., 11., 14.], dtype=float32)>,\n",
       " <tf.Tensor: shape=(8,), dtype=float32, numpy=array([ 3.,  6.,  9., 12., 15., 18., 21., 24.], dtype=float32)>)"
      ]
     },
     "execution_count": 24,
     "metadata": {},
     "output_type": "execute_result"
    }
   ],
   "source": [
    "# Remind ourselves of the data\n",
    "X, y"
   ]
  },
  {
   "cell_type": "code",
   "execution_count": 25,
   "id": "f8237f71",
   "metadata": {},
   "outputs": [
    {
     "name": "stderr",
     "output_type": "stream",
     "text": [
      "2022-07-22 19:11:52.620096: I tensorflow/core/grappler/optimizers/custom_graph_optimizer_registry.cc:112] Plugin optimizer for device_type GPU is enabled.\n"
     ]
    },
    {
     "data": {
      "text/plain": [
       "array([[29.956575]], dtype=float32)"
      ]
     },
     "execution_count": 25,
     "metadata": {},
     "output_type": "execute_result"
    }
   ],
   "source": [
    "# Let's see if our model's prediction has improved\n",
    "model.predict([17.0])\n"
   ]
  },
  {
   "cell_type": "code",
   "execution_count": 87,
   "id": "b5b2c0ab",
   "metadata": {
    "scrolled": false
   },
   "outputs": [
    {
     "name": "stdout",
     "output_type": "stream",
     "text": [
      "Epoch 1/100\n",
      "1/1 [==============================] - 0s 195ms/step - loss: 12.7827 - mae: 12.7827\n",
      "Epoch 2/100\n",
      "1/1 [==============================] - 0s 5ms/step - loss: 12.0546 - mae: 12.0546\n",
      "Epoch 3/100\n",
      "1/1 [==============================] - 0s 6ms/step - loss: 11.3208 - mae: 11.3208\n",
      "Epoch 4/100\n",
      "1/1 [==============================] - 0s 6ms/step - loss: 10.5795 - mae: 10.5795\n",
      "Epoch 5/100\n",
      "1/1 [==============================] - 0s 5ms/step - loss: 9.8280 - mae: 9.8280\n",
      "Epoch 6/100\n",
      "1/1 [==============================] - 0s 6ms/step - loss: 9.0641 - mae: 9.0641\n",
      "Epoch 7/100\n",
      "1/1 [==============================] - 0s 5ms/step - loss: 8.2855 - mae: 8.2855\n",
      "Epoch 8/100\n",
      "1/1 [==============================] - 0s 5ms/step - loss: 7.4895 - mae: 7.4895\n",
      "Epoch 9/100\n",
      "1/1 [==============================] - 0s 4ms/step - loss: 6.8615 - mae: 6.8615\n",
      "Epoch 10/100\n",
      "1/1 [==============================] - 0s 4ms/step - loss: 6.9553 - mae: 6.9553\n",
      "Epoch 11/100\n",
      "1/1 [==============================] - 0s 5ms/step - loss: 7.2451 - mae: 7.2451\n",
      "Epoch 12/100\n",
      "1/1 [==============================] - 0s 5ms/step - loss: 7.4109 - mae: 7.4109\n",
      "Epoch 13/100\n",
      "1/1 [==============================] - 0s 5ms/step - loss: 7.5711 - mae: 7.5711\n",
      "Epoch 14/100\n",
      "1/1 [==============================] - 0s 5ms/step - loss: 7.5002 - mae: 7.5002\n",
      "Epoch 15/100\n",
      "1/1 [==============================] - 0s 4ms/step - loss: 7.2545 - mae: 7.2545\n",
      "Epoch 16/100\n",
      "1/1 [==============================] - 0s 4ms/step - loss: 6.9874 - mae: 6.9874\n",
      "Epoch 17/100\n",
      "1/1 [==============================] - 0s 4ms/step - loss: 6.7201 - mae: 6.7201\n",
      "Epoch 18/100\n",
      "1/1 [==============================] - 0s 4ms/step - loss: 6.4324 - mae: 6.4324\n",
      "Epoch 19/100\n",
      "1/1 [==============================] - 0s 6ms/step - loss: 6.2004 - mae: 6.2004\n",
      "Epoch 20/100\n",
      "1/1 [==============================] - 0s 4ms/step - loss: 6.1509 - mae: 6.1509\n",
      "Epoch 21/100\n",
      "1/1 [==============================] - 0s 4ms/step - loss: 6.1685 - mae: 6.1685\n",
      "Epoch 22/100\n",
      "1/1 [==============================] - 0s 6ms/step - loss: 6.2370 - mae: 6.2370\n"
     ]
    },
    {
     "name": "stderr",
     "output_type": "stream",
     "text": [
      "2022-07-22 20:13:42.039644: I tensorflow/core/grappler/optimizers/custom_graph_optimizer_registry.cc:112] Plugin optimizer for device_type GPU is enabled.\n"
     ]
    },
    {
     "name": "stdout",
     "output_type": "stream",
     "text": [
      "Epoch 23/100\n",
      "1/1 [==============================] - 0s 4ms/step - loss: 6.1946 - mae: 6.1946\n",
      "Epoch 24/100\n",
      "1/1 [==============================] - 0s 5ms/step - loss: 6.0556 - mae: 6.0556\n",
      "Epoch 25/100\n",
      "1/1 [==============================] - 0s 4ms/step - loss: 5.8310 - mae: 5.8310\n",
      "Epoch 26/100\n",
      "1/1 [==============================] - 0s 4ms/step - loss: 5.6831 - mae: 5.6831\n",
      "Epoch 27/100\n",
      "1/1 [==============================] - 0s 5ms/step - loss: 5.5797 - mae: 5.5797\n",
      "Epoch 28/100\n",
      "1/1 [==============================] - 0s 4ms/step - loss: 5.5011 - mae: 5.5011\n",
      "Epoch 29/100\n",
      "1/1 [==============================] - 0s 4ms/step - loss: 5.4944 - mae: 5.4944\n",
      "Epoch 30/100\n",
      "1/1 [==============================] - 0s 5ms/step - loss: 5.4382 - mae: 5.4382\n",
      "Epoch 31/100\n",
      "1/1 [==============================] - 0s 4ms/step - loss: 5.3370 - mae: 5.3370\n",
      "Epoch 32/100\n",
      "1/1 [==============================] - 0s 4ms/step - loss: 5.1945 - mae: 5.1945\n",
      "Epoch 33/100\n",
      "1/1 [==============================] - 0s 5ms/step - loss: 5.0145 - mae: 5.0145\n",
      "Epoch 34/100\n",
      "1/1 [==============================] - 0s 4ms/step - loss: 4.9085 - mae: 4.9085\n",
      "Epoch 35/100\n",
      "1/1 [==============================] - 0s 4ms/step - loss: 4.8146 - mae: 4.8146\n",
      "Epoch 36/100\n",
      "1/1 [==============================] - 0s 6ms/step - loss: 4.7140 - mae: 4.7140\n",
      "Epoch 37/100\n",
      "1/1 [==============================] - 0s 4ms/step - loss: 4.6741 - mae: 4.6741\n",
      "Epoch 38/100\n",
      "1/1 [==============================] - 0s 5ms/step - loss: 4.5469 - mae: 4.5469\n",
      "Epoch 39/100\n",
      "1/1 [==============================] - 0s 4ms/step - loss: 4.3447 - mae: 4.3447\n",
      "Epoch 40/100\n",
      "1/1 [==============================] - 0s 4ms/step - loss: 4.2003 - mae: 4.2003\n",
      "Epoch 41/100\n",
      "1/1 [==============================] - 0s 5ms/step - loss: 4.0494 - mae: 4.0494\n",
      "Epoch 42/100\n",
      "1/1 [==============================] - 0s 4ms/step - loss: 3.8984 - mae: 3.8984\n",
      "Epoch 43/100\n",
      "1/1 [==============================] - 0s 4ms/step - loss: 3.7804 - mae: 3.7804\n",
      "Epoch 44/100\n",
      "1/1 [==============================] - 0s 6ms/step - loss: 3.6071 - mae: 3.6071\n",
      "Epoch 45/100\n",
      "1/1 [==============================] - 0s 4ms/step - loss: 3.4362 - mae: 3.4362\n",
      "Epoch 46/100\n",
      "1/1 [==============================] - 0s 5ms/step - loss: 3.2769 - mae: 3.2769\n",
      "Epoch 47/100\n",
      "1/1 [==============================] - 0s 5ms/step - loss: 3.1080 - mae: 3.1080\n",
      "Epoch 48/100\n",
      "1/1 [==============================] - 0s 4ms/step - loss: 2.9292 - mae: 2.9292\n",
      "Epoch 49/100\n",
      "1/1 [==============================] - 0s 6ms/step - loss: 2.7607 - mae: 2.7607\n",
      "Epoch 50/100\n",
      "1/1 [==============================] - 0s 4ms/step - loss: 2.5309 - mae: 2.5309\n",
      "Epoch 51/100\n",
      "1/1 [==============================] - 0s 4ms/step - loss: 2.3119 - mae: 2.3119\n",
      "Epoch 52/100\n",
      "1/1 [==============================] - 0s 6ms/step - loss: 2.1585 - mae: 2.1585\n",
      "Epoch 53/100\n",
      "1/1 [==============================] - 0s 4ms/step - loss: 1.9528 - mae: 1.9528\n",
      "Epoch 54/100\n",
      "1/1 [==============================] - 0s 5ms/step - loss: 1.6742 - mae: 1.6742\n",
      "Epoch 55/100\n",
      "1/1 [==============================] - 0s 5ms/step - loss: 1.4089 - mae: 1.4089\n",
      "Epoch 56/100\n",
      "1/1 [==============================] - 0s 6ms/step - loss: 1.3024 - mae: 1.3024\n",
      "Epoch 57/100\n",
      "1/1 [==============================] - 0s 5ms/step - loss: 1.0195 - mae: 1.0195\n",
      "Epoch 58/100\n",
      "1/1 [==============================] - 0s 4ms/step - loss: 0.6342 - mae: 0.6342\n",
      "Epoch 59/100\n",
      "1/1 [==============================] - 0s 5ms/step - loss: 0.4445 - mae: 0.4445\n",
      "Epoch 60/100\n",
      "1/1 [==============================] - 0s 4ms/step - loss: 0.0725 - mae: 0.0725\n",
      "Epoch 61/100\n",
      "1/1 [==============================] - 0s 4ms/step - loss: 0.3088 - mae: 0.3088\n",
      "Epoch 62/100\n",
      "1/1 [==============================] - 0s 6ms/step - loss: 0.4592 - mae: 0.4592\n",
      "Epoch 63/100\n",
      "1/1 [==============================] - 0s 4ms/step - loss: 0.7129 - mae: 0.7129\n",
      "Epoch 64/100\n",
      "1/1 [==============================] - 0s 5ms/step - loss: 0.7465 - mae: 0.7465\n",
      "Epoch 65/100\n",
      "1/1 [==============================] - 0s 4ms/step - loss: 0.8539 - mae: 0.8539\n",
      "Epoch 66/100\n",
      "1/1 [==============================] - 0s 4ms/step - loss: 0.8672 - mae: 0.8672\n",
      "Epoch 67/100\n",
      "1/1 [==============================] - 0s 6ms/step - loss: 0.8114 - mae: 0.8114\n",
      "Epoch 68/100\n",
      "1/1 [==============================] - 0s 4ms/step - loss: 0.8225 - mae: 0.8225\n",
      "Epoch 69/100\n",
      "1/1 [==============================] - 0s 5ms/step - loss: 0.6659 - mae: 0.6659\n",
      "Epoch 70/100\n",
      "1/1 [==============================] - 0s 4ms/step - loss: 0.6044 - mae: 0.6044\n",
      "Epoch 71/100\n",
      "1/1 [==============================] - 0s 5ms/step - loss: 0.4804 - mae: 0.4804\n",
      "Epoch 72/100\n",
      "1/1 [==============================] - 0s 6ms/step - loss: 0.3378 - mae: 0.3378\n",
      "Epoch 73/100\n",
      "1/1 [==============================] - 0s 4ms/step - loss: 0.1816 - mae: 0.1816\n",
      "Epoch 74/100\n",
      "1/1 [==============================] - 0s 5ms/step - loss: 0.1511 - mae: 0.1511\n",
      "Epoch 75/100\n",
      "1/1 [==============================] - 0s 5ms/step - loss: 0.2540 - mae: 0.2540\n",
      "Epoch 76/100\n",
      "1/1 [==============================] - 0s 5ms/step - loss: 0.3616 - mae: 0.3616\n",
      "Epoch 77/100\n",
      "1/1 [==============================] - 0s 6ms/step - loss: 0.3782 - mae: 0.3782\n",
      "Epoch 78/100\n",
      "1/1 [==============================] - 0s 4ms/step - loss: 0.4284 - mae: 0.4284\n",
      "Epoch 79/100\n",
      "1/1 [==============================] - 0s 5ms/step - loss: 0.4319 - mae: 0.4319\n",
      "Epoch 80/100\n",
      "1/1 [==============================] - 0s 4ms/step - loss: 0.2947 - mae: 0.2947\n",
      "Epoch 81/100\n",
      "1/1 [==============================] - 0s 5ms/step - loss: 0.2531 - mae: 0.2531\n",
      "Epoch 82/100\n",
      "1/1 [==============================] - 0s 6ms/step - loss: 0.2163 - mae: 0.2163\n",
      "Epoch 83/100\n",
      "1/1 [==============================] - 0s 4ms/step - loss: 0.0880 - mae: 0.0880\n",
      "Epoch 84/100\n",
      "1/1 [==============================] - 0s 6ms/step - loss: 0.2072 - mae: 0.2072\n",
      "Epoch 85/100\n",
      "1/1 [==============================] - 0s 5ms/step - loss: 0.2481 - mae: 0.2481\n",
      "Epoch 86/100\n",
      "1/1 [==============================] - 0s 5ms/step - loss: 0.3386 - mae: 0.3386\n",
      "Epoch 87/100\n",
      "1/1 [==============================] - 0s 6ms/step - loss: 0.3715 - mae: 0.3715\n",
      "Epoch 88/100\n",
      "1/1 [==============================] - 0s 4ms/step - loss: 0.2723 - mae: 0.2723\n",
      "Epoch 89/100\n",
      "1/1 [==============================] - 0s 5ms/step - loss: 0.2318 - mae: 0.2318\n",
      "Epoch 90/100\n",
      "1/1 [==============================] - 0s 4ms/step - loss: 0.1723 - mae: 0.1723\n",
      "Epoch 91/100\n",
      "1/1 [==============================] - 0s 4ms/step - loss: 0.1272 - mae: 0.1272\n",
      "Epoch 92/100\n",
      "1/1 [==============================] - 0s 5ms/step - loss: 0.0685 - mae: 0.0685\n",
      "Epoch 93/100\n",
      "1/1 [==============================] - 0s 4ms/step - loss: 0.2086 - mae: 0.2086\n",
      "Epoch 94/100\n",
      "1/1 [==============================] - 0s 4ms/step - loss: 0.1812 - mae: 0.1812\n",
      "Epoch 95/100\n",
      "1/1 [==============================] - 0s 6ms/step - loss: 0.3132 - mae: 0.3132\n",
      "Epoch 96/100\n",
      "1/1 [==============================] - 0s 4ms/step - loss: 0.3059 - mae: 0.3059\n",
      "Epoch 97/100\n",
      "1/1 [==============================] - 0s 6ms/step - loss: 0.1844 - mae: 0.1844\n",
      "Epoch 98/100\n",
      "1/1 [==============================] - 0s 4ms/step - loss: 0.1881 - mae: 0.1881\n",
      "Epoch 99/100\n",
      "1/1 [==============================] - 0s 4ms/step - loss: 0.1244 - mae: 0.1244\n",
      "Epoch 100/100\n",
      "1/1 [==============================] - 0s 5ms/step - loss: 0.1216 - mae: 0.1216\n"
     ]
    },
    {
     "data": {
      "text/plain": [
       "<tensorflow.python.keras.callbacks.History at 0x2ca6e7370>"
      ]
     },
     "execution_count": 87,
     "metadata": {},
     "output_type": "execute_result"
    }
   ],
   "source": [
    "# Practice creating a model, homework if you will\n",
    "\n",
    "# 1. Create the model, the \"Dense\" number is the number of hidden units e.g. Dense(100)\n",
    "model = tf.keras.Sequential([\n",
    "        tf.keras.layers.Dense(50, activation=None),\n",
    "        tf.keras.layers.Dense(1)\n",
    "])\n",
    "\n",
    "# 2. Compile the model\n",
    "model.compile(loss=\"mae\",\n",
    "             optimizer=tf.keras.optimizers.Adam(lr=0.01),\n",
    "             metrics=[\"mae\"])\n",
    "# 3. Fit the model\n",
    "model.fit(X, y, epochs=100)"
   ]
  },
  {
   "cell_type": "code",
   "execution_count": 78,
   "id": "79d763ee",
   "metadata": {},
   "outputs": [
    {
     "data": {
      "text/plain": [
       "(<tf.Tensor: shape=(8,), dtype=float32, numpy=array([-7., -4., -1.,  2.,  5.,  8., 11., 14.], dtype=float32)>,\n",
       " <tf.Tensor: shape=(8,), dtype=float32, numpy=array([ 3.,  6.,  9., 12., 15., 18., 21., 24.], dtype=float32)>)"
      ]
     },
     "execution_count": 78,
     "metadata": {},
     "output_type": "execute_result"
    }
   ],
   "source": [
    "X, y"
   ]
  },
  {
   "cell_type": "code",
   "execution_count": 88,
   "id": "b6782ab7",
   "metadata": {},
   "outputs": [
    {
     "name": "stderr",
     "output_type": "stream",
     "text": [
      "2022-07-22 20:13:49.772461: I tensorflow/core/grappler/optimizers/custom_graph_optimizer_registry.cc:112] Plugin optimizer for device_type GPU is enabled.\n"
     ]
    },
    {
     "data": {
      "text/plain": [
       "array([[27.54979]], dtype=float32)"
      ]
     },
     "execution_count": 88,
     "metadata": {},
     "output_type": "execute_result"
    }
   ],
   "source": [
    "model.predict([17])"
   ]
  },
  {
   "cell_type": "markdown",
   "id": "34ee7e23",
   "metadata": {},
   "source": [
    "### Evaluating a model\n",
    "In practice, a typical workflow you'll go through when building neural network is:\n",
    "Build a model -> fit it -> evaluate it -> tweak a model -> fit it -> evaluate it ->\n",
    "tweak a model -> fit it -> evaluate it"
   ]
  },
  {
   "cell_type": "code",
   "execution_count": null,
   "id": "216ab337",
   "metadata": {},
   "outputs": [],
   "source": [
    "# When it come to evaluation there are 3 words to remember:\n",
    "# Visualize, Visualize, Visualize\n",
    "# It's good to visualize the data what data are we working with what does it look like\n",
    "# Visualize the model itself - what does our model look like?\n",
    "# the training of the model - how does a model perform while it learns?\n",
    "# The predictions of a model – how does the predictions of a model lineup against,\n",
    "# the ground truth (the original labels)."
   ]
  },
  {
   "cell_type": "code",
   "execution_count": 89,
   "id": "7f175ae2",
   "metadata": {
    "scrolled": true
   },
   "outputs": [
    {
     "data": {
      "text/plain": [
       "<tf.Tensor: shape=(50,), dtype=int32, numpy=\n",
       "array([-100,  -96,  -92,  -88,  -84,  -80,  -76,  -72,  -68,  -64,  -60,\n",
       "        -56,  -52,  -48,  -44,  -40,  -36,  -32,  -28,  -24,  -20,  -16,\n",
       "        -12,   -8,   -4,    0,    4,    8,   12,   16,   20,   24,   28,\n",
       "         32,   36,   40,   44,   48,   52,   56,   60,   64,   68,   72,\n",
       "         76,   80,   84,   88,   92,   96], dtype=int32)>"
      ]
     },
     "execution_count": 89,
     "metadata": {},
     "output_type": "execute_result"
    }
   ],
   "source": [
    "# Make a bigger dataset\n",
    "X = tf.range(-100, 100, 4)\n",
    "X"
   ]
  },
  {
   "cell_type": "code",
   "execution_count": 90,
   "id": "0e438abc",
   "metadata": {
    "scrolled": true
   },
   "outputs": [
    {
     "data": {
      "text/plain": [
       "<tf.Tensor: shape=(50,), dtype=int32, numpy=\n",
       "array([-90, -86, -82, -78, -74, -70, -66, -62, -58, -54, -50, -46, -42,\n",
       "       -38, -34, -30, -26, -22, -18, -14, -10,  -6,  -2,   2,   6,  10,\n",
       "        14,  18,  22,  26,  30,  34,  38,  42,  46,  50,  54,  58,  62,\n",
       "        66,  70,  74,  78,  82,  86,  90,  94,  98, 102, 106], dtype=int32)>"
      ]
     },
     "execution_count": 90,
     "metadata": {},
     "output_type": "execute_result"
    }
   ],
   "source": [
    "# Make labels for the dataset\n",
    "y = X + 10\n",
    "y"
   ]
  },
  {
   "cell_type": "code",
   "execution_count": 91,
   "id": "6d78d399",
   "metadata": {
    "scrolled": true
   },
   "outputs": [
    {
     "data": {
      "text/plain": [
       "<matplotlib.collections.PathCollection at 0x2c8745f40>"
      ]
     },
     "execution_count": 91,
     "metadata": {},
     "output_type": "execute_result"
    },
    {
     "data": {
      "image/png": "[encoded data removed]",
      "text/plain": [
       "<Figure size 432x288 with 1 Axes>"
      ]
     },
     "metadata": {
      "needs_background": "light"
     },
     "output_type": "display_data"
    }
   ],
   "source": [
    "# Visualize the data\n",
    "import matplotlib.pyplot as plt\n",
    "plt.scatter(X, y)"
   ]
  },
  {
   "cell_type": "markdown",
   "id": "80bbeef4",
   "metadata": {},
   "source": [
    "### The 3 sets...\n",
    "* Training set - the model learns from this data, which is typically 70-80% of the total data you have available, \n",
    "\n",
    "* Validation set - the model gets tuned on this data, which is typically 10-15% od the data available\n",
    "\n",
    "* Test set - the model get evaluated on this data to test what it has learned, this set is typically 10-15% of the total data available"
   ]
  }
 ],
 "metadata": {
  "kernelspec": {
   "display_name": "Python 3.9 (tensorflow)",
   "language": "python",
   "name": "tensorflow"
  },
  "language_info": {
   "codemirror_mode": {
    "name": "ipython",
    "version": 3
   },
   "file_extension": ".py",
   "mimetype": "text/x-python",
   "name": "python",
   "nbconvert_exporter": "python",
   "pygments_lexer": "ipython3",
   "version": "3.9.13"
  }
 },
 "nbformat": 4,
 "nbformat_minor": 5
}
